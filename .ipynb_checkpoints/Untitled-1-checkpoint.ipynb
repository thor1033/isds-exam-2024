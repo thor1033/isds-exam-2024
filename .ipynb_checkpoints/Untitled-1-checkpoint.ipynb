{
 "cells": [
  {
   "cell_type": "code",
   "execution_count": 1,
   "metadata": {},
   "outputs": [],
   "source": [
    "## Load libraries\n",
    "import pandas as pd\n",
    "import seaborn as sns\n",
    "import numpy as np\n",
    "import matplotlib.pyplot as plt\n",
    "from sklearn.model_selection import train_test_split\n",
    "from sklearn.model_selection import learning_curve\n",
    "from sklearn.model_selection import validation_curve\n",
    "from sklearn.linear_model import Lasso\n",
    "from sklearn.linear_model import LassoCV\n",
    "from sklearn.preprocessing import StandardScaler\n",
    "from sklearn.preprocessing import OneHotEncoder\n",
    "from sklearn.preprocessing import StandardScaler, PolynomialFeatures\n",
    "from sklearn.pipeline import make_pipeline\n",
    "from sklearn.metrics import mean_squared_error, r2_score"
   ]
  },
  {
   "cell_type": "code",
   "execution_count": 2,
   "metadata": {},
   "outputs": [],
   "source": [
    "# Path to the CSV file\n",
    "csv_path = './data/merged_data.csv'\n",
    "\n",
    "# Read the CSV file into a DataFrame\n",
    "merged_data = pd.read_csv(csv_path)\n",
    "\n",
    "# Display the first few rows of the DataFrame to verify\n",
    "\n",
    "# List of columns to drop\n",
    "columns_to_drop = [\n",
    "    'saleType', 'guid', 'latitude', 'longitude',\n",
    "    'estateCode', 'city', 'groupKey', 'canGetVR', 'bfEnr'\n",
    "]\n",
    "\n",
    "# Dropping the columns from the DataFrame\n",
    "merged_data = merged_data.drop(columns=columns_to_drop)"
   ]
  },
  {
   "cell_type": "code",
   "execution_count": 3,
   "metadata": {},
   "outputs": [
    {
     "data": {
      "text/plain": [
       "estateId                                             2017881\n",
       "address                                         Granhegnet 3\n",
       "zipCode                                                 4850\n",
       "price                                                 850000\n",
       "soldDate                           2023-12-30 23:00:00+00:00\n",
       "propertyType                                               4\n",
       "sqmPrice                                            14912.28\n",
       "rooms                                                      3\n",
       "size                                                      57\n",
       "buildYear                                               1976\n",
       "change                                             -5.027933\n",
       "municipalityCode                                         376\n",
       "ouId                                              1094495391\n",
       "ouAddress                    granhegnet-3-4850-stubbekoebing\n",
       "Municipality                                    Guldborgsund\n",
       "year                                                    2023\n",
       "area_of_sports_facilities                               86.5\n",
       "danish_origin                                       0.890118\n",
       "descendants                                          0.01137\n",
       "crimes                                               0.06776\n",
       "full_time_unemployed                                0.020348\n",
       "gini_coefficient                                       26.04\n",
       "average_age                                             47.0\n",
       "immigrants                                          0.098512\n",
       "municipal_tax                                           25.8\n",
       "primaryschool                                       0.292484\n",
       "kvu                                                 0.044461\n",
       "lvu                                                 0.042274\n",
       "job                                                 0.691543\n",
       "population                                             39315\n",
       "Name: 0, dtype: object"
      ]
     },
     "execution_count": 3,
     "metadata": {},
     "output_type": "execute_result"
    }
   ],
   "source": [
    "merged_data.iloc[0]"
   ]
  },
  {
   "cell_type": "code",
   "execution_count": 4,
   "metadata": {},
   "outputs": [],
   "source": [
    "data = merged_data\n",
    "data = data.dropna(subset=['sqmPrice'])\n"
   ]
  },
  {
   "cell_type": "code",
   "execution_count": 5,
   "metadata": {},
   "outputs": [],
   "source": [
    "def split_data(X, y):\n",
    "    # Remove rows with NaN values from both X and y\n",
    "    mask = ~(X.isna().any(axis=1) | y.isna())\n",
    "    X = X[mask]\n",
    "    y = y[mask]\n",
    "    \n",
    "    X_train, X_test, y_train, y_test = train_test_split(X, y, test_size=0.2, random_state=42)\n",
    "    \n",
    "    scaler = StandardScaler()\n",
    "    X_train_scaled = scaler.fit_transform(X_train)\n",
    "    X_test_scaled = scaler.transform(X_test)\n",
    "\n",
    "    # Handle potential negative or zero values in y\n",
    "    y_train_pos = y_train[y_train > 0]\n",
    "    y_test_pos = y_test[y_test > 0]\n",
    "\n",
    "    y_train_log = np.log(y_train_pos)\n",
    "    y_test_log = np.log(y_test_pos)\n",
    "    \n",
    "    return X_train_scaled, X_test_scaled, y_train_log, y_test_log"
   ]
  },
  {
   "cell_type": "markdown",
   "metadata": {},
   "source": [
    "# 2. Lasso"
   ]
  },
  {
   "cell_type": "markdown",
   "metadata": {},
   "source": [
    "## Fit lasso"
   ]
  },
  {
   "cell_type": "code",
   "execution_count": 6,
   "metadata": {},
   "outputs": [],
   "source": [
    "X = data.drop(['propertyType','sqmPrice', 'estateId', 'address', 'zipCode', 'price', 'soldDate', 'ouId', 'ouAddress', 'change', 'Municipality', 'population','danish_origin'], axis=1)\n",
    "y = data['sqmPrice']\n"
   ]
  },
  {
   "cell_type": "code",
   "execution_count": 8,
   "metadata": {},
   "outputs": [],
   "source": [
    "X_train, X_test, y_train, y_test = split_data(X, y)"
   ]
  },
  {
   "cell_type": "code",
   "execution_count": 9,
   "metadata": {},
   "outputs": [
    {
     "name": "stdout",
     "output_type": "stream",
     "text": [
      "Mean Squared Error: 0.43879\n"
     ]
    },
    {
     "data": {
      "text/plain": [
       "rooms                       -0.041752\n",
       "size                        -0.106268\n",
       "buildYear                    0.112104\n",
       "municipalityCode            -0.104420\n",
       "year                         0.174301\n",
       "area_of_sports_facilities   -0.013983\n",
       "descendants                  0.113877\n",
       "crimes                      -0.036286\n",
       "full_time_unemployed         0.018321\n",
       "gini_coefficient             0.008192\n",
       "average_age                  0.137413\n",
       "immigrants                  -0.061326\n",
       "municipal_tax               -0.160232\n",
       "primaryschool               -0.261512\n",
       "kvu                         -0.297873\n",
       "lvu                          0.059970\n",
       "job                         -0.060886\n",
       "dtype: float64"
      ]
     },
     "execution_count": 9,
     "metadata": {},
     "output_type": "execute_result"
    }
   ],
   "source": [
    "lasso_model = Lasso(alpha=0.000115) \n",
    "lasso_model.fit(X_train, y_train)\n",
    "\n",
    "y_pred= lasso_model.predict(X_test)\n",
    "\n",
    "mse_log = mean_squared_error(y_test, y_pred)\n",
    "print(f\"Mean Squared Error: {mse_log.round(5)}\")\n",
    "\n",
    "lasso_coef3= pd.Series(lasso_model.coef_, index= X.columns)\n",
    "lasso_coef3"
   ]
  },
  {
   "cell_type": "markdown",
   "metadata": {},
   "source": [
    "## Removing insignificant variables"
   ]
  },
  {
   "cell_type": "code",
   "execution_count": 10,
   "metadata": {},
   "outputs": [],
   "source": [
    "lasso_coeffs = lasso_coef3\n",
    "\n",
    "# Set a threshold to determine insignificance\n",
    "threshold = 1e-3  # Adjust this threshold based on your needs\n",
    "\n",
    "# Identify indices of significant features\n",
    "significant_indices = np.where(np.abs(lasso_coeffs) > threshold)[0]\n",
    "\n",
    "# Select only significant features from your data\n",
    "X_train_selected = X_train[:, significant_indices]\n",
    "X_test_selected = X_test[:, significant_indices]"
   ]
  },
  {
   "cell_type": "code",
   "execution_count": 11,
   "metadata": {},
   "outputs": [
    {
     "name": "stdout",
     "output_type": "stream",
     "text": [
      "Mean Squared Error: 0.43879\n"
     ]
    },
    {
     "data": {
      "text/plain": [
       "rooms                       -0.041718\n",
       "size                        -0.106242\n",
       "buildYear                    0.112065\n",
       "municipalityCode            -0.104402\n",
       "year                         0.173125\n",
       "area_of_sports_facilities   -0.013531\n",
       "descendants                  0.113133\n",
       "crimes                      -0.036252\n",
       "full_time_unemployed         0.018311\n",
       "gini_coefficient             0.008021\n",
       "average_age                  0.138304\n",
       "immigrants                  -0.060191\n",
       "municipal_tax               -0.159892\n",
       "primaryschool               -0.259801\n",
       "kvu                         -0.295047\n",
       "lvu                          0.060160\n",
       "job                         -0.060497\n",
       "dtype: float64"
      ]
     },
     "execution_count": 11,
     "metadata": {},
     "output_type": "execute_result"
    }
   ],
   "source": [
    "lasso_model = Lasso(alpha=0.00015) \n",
    "lasso_model.fit(X_train_selected, y_train)\n",
    "\n",
    "y_pred_log = lasso_model.predict(X_test_selected)\n",
    "\n",
    "mse_log = mean_squared_error(y_test, y_pred_log)\n",
    "print(f\"Mean Squared Error: {mse_log.round(5)}\")\n",
    "\n",
    "lasso_coef3= pd.Series(lasso_model.coef_, index= X.columns[significant_indices])\n",
    "lasso_coef3"
   ]
  },
  {
   "cell_type": "markdown",
   "metadata": {},
   "source": [
    "## Validation"
   ]
  },
  {
   "cell_type": "code",
   "execution_count": 12,
   "metadata": {},
   "outputs": [],
   "source": [
    "import numpy as np\n",
    "import pandas as pd\n",
    "from sklearn.preprocessing import StandardScaler\n",
    "from sklearn.linear_model import Lasso\n",
    "from sklearn.model_selection import train_test_split, cross_val_score\n",
    "from sklearn.pipeline import make_pipeline\n",
    "from joblib import Parallel, delayed\n",
    "def evaluate_model(lambda_, X, y):\n",
    "    pipe_lasso = make_pipeline(\n",
    "        StandardScaler(),\n",
    "        Lasso(alpha=lambda_, random_state=80499, max_iter=5000, tol=1e-4)\n",
    "    )\n",
    "    scores = cross_val_score(pipe_lasso, X, y, cv=3, scoring='neg_mean_squared_error', n_jobs=-1)\n",
    "    return -scores.mean()  # Return the negative MSE (we're minimizing)"
   ]
  }
 ],
 "metadata": {
  "kernelspec": {
   "display_name": "Python 3",
   "language": "python",
   "name": "python3"
  },
  "language_info": {
   "codemirror_mode": {
    "name": "ipython",
    "version": 3
   },
   "file_extension": ".py",
   "mimetype": "text/x-python",
   "name": "python",
   "nbconvert_exporter": "python",
   "pygments_lexer": "ipython3",
   "version": "3.11.3"
  }
 },
 "nbformat": 4,
 "nbformat_minor": 2
}
